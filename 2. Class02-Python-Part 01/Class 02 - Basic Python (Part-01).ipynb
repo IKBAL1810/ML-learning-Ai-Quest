{
 "cells": [
  {
   "cell_type": "markdown",
   "id": "65ad4d60",
   "metadata": {},
   "source": [
    "# Python Learning Resources\n",
    "\n",
    "## Official Python Tutorial\n",
    "The official Python documentation tutorial. It's a great place to start learning Python from scratch, covering all the basics and more.  \n",
    "[Official Python Tutorial](https://docs.python.org/3/tutorial/index.html)\n",
    "\n",
    "## 60 Days of Python - YouTube Playlist\n",
    "A comprehensive YouTube playlist designed to teach you Python, covering various topics to build your programming skills.  \n",
    "[60 Days of Python - YouTube Playlist](https://www.youtube.com/playlist?list=PLKdU0fuY4OFf7qj4eoBtvALAB_Ml2rN0V)\n",
    "\n",
    "## 60 Days of Python - GitHub Repository\n",
    "The GitHub repository for the 60 Days of Python series. It includes all the code and resources used in the YouTube playlist.  \n",
    "[60 Days of Python - GitHub Repository](https://github.com/rashakil-ds/60-Days-of-Python-by-Study-Mart-AI-QUEST)\n",
    "\n",
    "## Python Notes for Professionals - PDF\n",
    "A free PDF book that offers a wide range of Python notes for professionals. It's a useful reference guide for both beginners and advanced users.  \n",
    "[Python Notes for Professionals - PDF](https://github.com/rashakil-ds/Top-Data-Science-AI-Book-Collection/blob/main/Books/Python%20Notes%20For%20Professionals.pdf)\n"
   ]
  },
  {
   "cell_type": "markdown",
   "id": "d17c8395",
   "metadata": {},
   "source": [
    "# Let's Talk About Python Language"
   ]
  },
  {
   "cell_type": "markdown",
   "id": "f84aef45",
   "metadata": {},
   "source": [
    "# Python Input/Output (I/O)\n",
    "\n",
    "Python provides numerous ways to handle input and output. This is essential for interacting with the user and for reading and writing data to and from files.\n",
    "\n",
    "## Input in Python\n",
    "\n",
    "To get input from the user, you can use the `input()` function. This function reads a line from the input (usually from the user), converts it to a string, and returns it.\n",
    "\n",
    "### Example:\n",
    "```python\n",
    "# Getting user input\n",
    "name = input(\"Enter your name: \") #ami input debo\n",
    "print(\"Hello, \" + name + \"!\") #computer output print korbe\n"
   ]
  },
  {
   "cell_type": "code",
   "execution_count": 1,
   "id": "205b2cfe",
   "metadata": {},
   "outputs": [
    {
     "name": "stdout",
     "output_type": "stream",
     "text": [
      "hello world\n"
     ]
    }
   ],
   "source": [
    "print('hello world') # b"
   ]
  },
  {
   "cell_type": "code",
   "execution_count": 6,
   "id": "ba4b97e8",
   "metadata": {},
   "outputs": [
    {
     "name": "stdout",
     "output_type": "stream",
     "text": [
      "hello world && ok    -------------   hello world ok\n"
     ]
    }
   ],
   "source": [
    "print('hello world','ok', sep=' && ', end='    -------------   ') #shift+tab\n",
    "print('hello world','ok')"
   ]
  },
  {
   "cell_type": "code",
   "execution_count": 7,
   "id": "306791b8",
   "metadata": {},
   "outputs": [
    {
     "name": "stdout",
     "output_type": "stream",
     "text": [
      "5\n"
     ]
    }
   ],
   "source": [
    "x = input()"
   ]
  },
  {
   "cell_type": "code",
   "execution_count": 8,
   "id": "67349bd4",
   "metadata": {},
   "outputs": [
    {
     "name": "stdout",
     "output_type": "stream",
     "text": [
      "5\n"
     ]
    }
   ],
   "source": [
    "y = input()"
   ]
  },
  {
   "cell_type": "code",
   "execution_count": 9,
   "id": "3dbd0b1a",
   "metadata": {},
   "outputs": [
    {
     "data": {
      "text/plain": [
       "'55'"
      ]
     },
     "execution_count": 9,
     "metadata": {},
     "output_type": "execute_result"
    }
   ],
   "source": [
    "x+y"
   ]
  },
  {
   "cell_type": "code",
   "execution_count": 10,
   "id": "e4f32bca",
   "metadata": {},
   "outputs": [
    {
     "name": "stdout",
     "output_type": "stream",
     "text": [
      "5\n",
      "5\n"
     ]
    }
   ],
   "source": [
    "x = int(input()) # datatype changing\n",
    "y = int(input())"
   ]
  },
  {
   "cell_type": "code",
   "execution_count": 11,
   "id": "fa5dd935",
   "metadata": {},
   "outputs": [
    {
     "data": {
      "text/plain": [
       "10"
      ]
     },
     "execution_count": 11,
     "metadata": {},
     "output_type": "execute_result"
    }
   ],
   "source": [
    "x+y"
   ]
  },
  {
   "cell_type": "code",
   "execution_count": 12,
   "id": "d58e5c4b",
   "metadata": {},
   "outputs": [
    {
     "data": {
      "text/plain": [
       "10"
      ]
     },
     "execution_count": 12,
     "metadata": {},
     "output_type": "execute_result"
    }
   ],
   "source": [
    "x = x+y\n",
    "x "
   ]
  },
  {
   "cell_type": "code",
   "execution_count": 13,
   "id": "1fa2e405",
   "metadata": {},
   "outputs": [
    {
     "data": {
      "text/plain": [
       "15"
      ]
     },
     "execution_count": 13,
     "metadata": {},
     "output_type": "execute_result"
    }
   ],
   "source": [
    "x = x+y\n",
    "x"
   ]
  },
  {
   "cell_type": "code",
   "execution_count": 14,
   "id": "1379654b",
   "metadata": {},
   "outputs": [
    {
     "data": {
      "text/plain": [
       "10"
      ]
     },
     "execution_count": 14,
     "metadata": {},
     "output_type": "execute_result"
    }
   ],
   "source": [
    "x = x-y\n",
    "x"
   ]
  },
  {
   "cell_type": "markdown",
   "id": "d3723c1b",
   "metadata": {},
   "source": [
    "# Python Variables\n",
    "\n",
    "## What is a Variable?\n",
    "Variables are like a container for storing data. Compares to other programming languages, Python has no command for declaring a variable. A variable is created the moment you first assign a value to it.\n",
    "\n",
    "## Variable Naming Rules\n",
    "When naming variables in Python, there are a few rules to keep in mind:\n",
    "1. **Variable names must start with a letter or the underscore character**.\n",
    "2. **A variable name cannot start with a number**.\n",
    "3. **Variable names can only contain alpha-numeric characters and underscores (A-z, 0-9, and _ )**.\n",
    "4. **Variable names are case-sensitive (age, Age, and AGE are three different variables)**.\n",
    "5. **Reserved words (keywords) cannot be used as variable names**. ['Reserved words in Python'](https://flexiple.com/python/python-reserved-words)\n",
    "\n",
    "## Creating Variables\n",
    "In Python, a variable is created the moment you first assign a value to it. Unlike other programming languages, you don't need to declare the type of the variable.\n",
    "\n",
    "### Example:\n",
    "```python\n",
    "x = 5\n",
    "y = \"Hello, aiQuest Intelligence!\"\n"
   ]
  },
  {
   "cell_type": "code",
   "execution_count": 15,
   "id": "cb135921",
   "metadata": {},
   "outputs": [],
   "source": [
    "x = ['']\n",
    "mar_qu_mov_2024 = [''] # jara 2024 a mara gese"
   ]
  },
  {
   "cell_type": "code",
   "execution_count": 16,
   "id": "f6872d59",
   "metadata": {},
   "outputs": [],
   "source": [
    "var1 = 'ai'"
   ]
  },
  {
   "cell_type": "code",
   "execution_count": 17,
   "id": "716d9011",
   "metadata": {},
   "outputs": [
    {
     "data": {
      "text/plain": [
       "'ai'"
      ]
     },
     "execution_count": 17,
     "metadata": {},
     "output_type": "execute_result"
    }
   ],
   "source": [
    "var1"
   ]
  },
  {
   "cell_type": "code",
   "execution_count": 18,
   "id": "bd3121c1",
   "metadata": {},
   "outputs": [
    {
     "ename": "SyntaxError",
     "evalue": "invalid syntax (4256868957.py, line 1)",
     "output_type": "error",
     "traceback": [
      "\u001b[1;36m  File \u001b[1;32m\"C:\\Users\\rashe\\AppData\\Local\\Temp\\ipykernel_21220\\4256868957.py\"\u001b[1;36m, line \u001b[1;32m1\u001b[0m\n\u001b[1;33m    1var = 10\u001b[0m\n\u001b[1;37m     ^\u001b[0m\n\u001b[1;31mSyntaxError\u001b[0m\u001b[1;31m:\u001b[0m invalid syntax\n"
     ]
    }
   ],
   "source": [
    "1var = 10 # invalid"
   ]
  },
  {
   "cell_type": "code",
   "execution_count": 19,
   "id": "d693bd89",
   "metadata": {},
   "outputs": [
    {
     "ename": "SyntaxError",
     "evalue": "cannot assign to operator (3170076202.py, line 1)",
     "output_type": "error",
     "traceback": [
      "\u001b[1;36m  File \u001b[1;32m\"C:\\Users\\rashe\\AppData\\Local\\Temp\\ipykernel_21220\\3170076202.py\"\u001b[1;36m, line \u001b[1;32m1\u001b[0m\n\u001b[1;33m    var-1 = 10\u001b[0m\n\u001b[1;37m    ^\u001b[0m\n\u001b[1;31mSyntaxError\u001b[0m\u001b[1;31m:\u001b[0m cannot assign to operator\n"
     ]
    }
   ],
   "source": [
    "var-1 = 10"
   ]
  },
  {
   "cell_type": "code",
   "execution_count": 20,
   "id": "4abfd3aa",
   "metadata": {},
   "outputs": [],
   "source": [
    "var_1 = 10"
   ]
  },
  {
   "cell_type": "code",
   "execution_count": 21,
   "id": "a7e7f22a",
   "metadata": {},
   "outputs": [
    {
     "data": {
      "text/plain": [
       "10"
      ]
     },
     "execution_count": 21,
     "metadata": {},
     "output_type": "execute_result"
    }
   ],
   "source": [
    "var_1"
   ]
  },
  {
   "cell_type": "code",
   "execution_count": 22,
   "id": "dec8c44d",
   "metadata": {},
   "outputs": [
    {
     "ename": "NameError",
     "evalue": "name 'var' is not defined",
     "output_type": "error",
     "traceback": [
      "\u001b[1;31m---------------------------------------------------------------------------\u001b[0m",
      "\u001b[1;31mNameError\u001b[0m                                 Traceback (most recent call last)",
      "\u001b[1;32m~\\AppData\\Local\\Temp\\ipykernel_21220\\2577288238.py\u001b[0m in \u001b[0;36m<module>\u001b[1;34m\u001b[0m\n\u001b[1;32m----> 1\u001b[1;33m \u001b[0mvar\u001b[0m\u001b[1;31m# = 10\u001b[0m\u001b[1;33m\u001b[0m\u001b[1;33m\u001b[0m\u001b[0m\n\u001b[0m",
      "\u001b[1;31mNameError\u001b[0m: name 'var' is not defined"
     ]
    }
   ],
   "source": [
    "var# = 10"
   ]
  },
  {
   "cell_type": "code",
   "execution_count": 23,
   "id": "8a1a9d9b",
   "metadata": {},
   "outputs": [
    {
     "ename": "SyntaxError",
     "evalue": "invalid syntax (4252827827.py, line 1)",
     "output_type": "error",
     "traceback": [
      "\u001b[1;36m  File \u001b[1;32m\"C:\\Users\\rashe\\AppData\\Local\\Temp\\ipykernel_21220\\4252827827.py\"\u001b[1;36m, line \u001b[1;32m1\u001b[0m\n\u001b[1;33m    var_@ = 10\u001b[0m\n\u001b[1;37m          ^\u001b[0m\n\u001b[1;31mSyntaxError\u001b[0m\u001b[1;31m:\u001b[0m invalid syntax\n"
     ]
    }
   ],
   "source": [
    "var_@ = 10"
   ]
  },
  {
   "cell_type": "code",
   "execution_count": 24,
   "id": "4af95964",
   "metadata": {},
   "outputs": [],
   "source": [
    "age = 10\n",
    "Age = 20\n",
    "AGE = 30"
   ]
  },
  {
   "cell_type": "code",
   "execution_count": 25,
   "id": "3bd43788",
   "metadata": {},
   "outputs": [
    {
     "data": {
      "text/plain": [
       "30"
      ]
     },
     "execution_count": 25,
     "metadata": {},
     "output_type": "execute_result"
    }
   ],
   "source": [
    "AGE"
   ]
  },
  {
   "cell_type": "code",
   "execution_count": 26,
   "id": "07c8b023",
   "metadata": {},
   "outputs": [
    {
     "data": {
      "text/plain": [
       "10"
      ]
     },
     "execution_count": 26,
     "metadata": {},
     "output_type": "execute_result"
    }
   ],
   "source": [
    "age"
   ]
  },
  {
   "cell_type": "code",
   "execution_count": 27,
   "id": "af4e40ed",
   "metadata": {},
   "outputs": [
    {
     "data": {
      "text/plain": [
       "20"
      ]
     },
     "execution_count": 27,
     "metadata": {},
     "output_type": "execute_result"
    }
   ],
   "source": [
    "Age"
   ]
  },
  {
   "cell_type": "markdown",
   "id": "e00dc6f0",
   "metadata": {},
   "source": [
    "# Multi-Word Variable Names in Python\n",
    "\n",
    "When naming variables that consist of multiple words, it's important to follow certain conventions to ensure readability and maintainability of your code. Here are the common conventions used in Python:\n",
    "\n",
    "## 1. Snake Case\n",
    "Snake case is the most common naming convention in Python. In this style, words are separated by underscores (`_`), and all letters are lowercase.\n",
    "\n",
    "### Example:\n",
    "```python\n",
    "first_name = \"Rashedul Alam\"\n",
    "last_name = \"Shakil\"\n",
    "user_age = 27\n"
   ]
  },
  {
   "cell_type": "code",
   "execution_count": 28,
   "id": "4464348a",
   "metadata": {},
   "outputs": [],
   "source": [
    "first_name = \"Rashedul Alam\"\n",
    "last_name = \"Shakil\"\n",
    "user_age = 27"
   ]
  },
  {
   "cell_type": "code",
   "execution_count": 29,
   "id": "942e6df8",
   "metadata": {},
   "outputs": [
    {
     "data": {
      "text/plain": [
       "'Rashedul Alam'"
      ]
     },
     "execution_count": 29,
     "metadata": {},
     "output_type": "execute_result"
    }
   ],
   "source": [
    "first_name"
   ]
  },
  {
   "cell_type": "code",
   "execution_count": 30,
   "id": "da19be3e",
   "metadata": {},
   "outputs": [
    {
     "ename": "SyntaxError",
     "evalue": "invalid syntax (4211822679.py, line 1)",
     "output_type": "error",
     "traceback": [
      "\u001b[1;36m  File \u001b[1;32m\"C:\\Users\\rashe\\AppData\\Local\\Temp\\ipykernel_21220\\4211822679.py\"\u001b[1;36m, line \u001b[1;32m1\u001b[0m\n\u001b[1;33m    first name = 'RA'\u001b[0m\n\u001b[1;37m          ^\u001b[0m\n\u001b[1;31mSyntaxError\u001b[0m\u001b[1;31m:\u001b[0m invalid syntax\n"
     ]
    }
   ],
   "source": [
    "first name = 'RA' #DEA JABE NA"
   ]
  },
  {
   "cell_type": "code",
   "execution_count": null,
   "id": "d06495ba",
   "metadata": {},
   "outputs": [],
   "source": []
  },
  {
   "cell_type": "code",
   "execution_count": null,
   "id": "9da39ae3",
   "metadata": {},
   "outputs": [],
   "source": []
  },
  {
   "cell_type": "markdown",
   "id": "ad5505db",
   "metadata": {},
   "source": [
    "## 2. Camel Case\n",
    "Camel Case is a naming convention where the `first letter` of the first word is lowercase, and the first letter of each subsequent concatenated word is `capitalized`. This convention is commonly used in many programming languages but is less common for variable names in Python.\n",
    "\n",
    "### Example:\n",
    "```python\n",
    "firstName = \"Rashedul Alam\"\n",
    "lastName = \"Shakil\"\n",
    "userAge = 27\n"
   ]
  },
  {
   "cell_type": "code",
   "execution_count": 31,
   "id": "f7888577",
   "metadata": {},
   "outputs": [],
   "source": [
    "firstName = \"Rashedul Alam\"\n",
    "lastName = \"Shakil\"\n",
    "userAge = 27"
   ]
  },
  {
   "cell_type": "code",
   "execution_count": 32,
   "id": "4fa8ed30",
   "metadata": {},
   "outputs": [
    {
     "data": {
      "text/plain": [
       "'Shakil'"
      ]
     },
     "execution_count": 32,
     "metadata": {},
     "output_type": "execute_result"
    }
   ],
   "source": [
    "lastName"
   ]
  },
  {
   "cell_type": "markdown",
   "id": "9c5baf39",
   "metadata": {},
   "source": [
    "## 3. Pascal Case in Python\n",
    "\n",
    "Pascal Case is similar to Camel Case, but with Pascal Case, the first letter of every word is capitalized, including the first word. This helps in distinguishing class names from variable names, which typically use Snake Case in Python.\n",
    "\n",
    "### Example:\n",
    "```python\n",
    "FirstName = \"Rashedul Alam\"\n",
    "LastName = \"Shakil\"\n",
    "UserAge = 27\n"
   ]
  },
  {
   "cell_type": "code",
   "execution_count": 33,
   "id": "4e559e0f",
   "metadata": {},
   "outputs": [],
   "source": [
    "FirstName = \"Rashedul Alam\"\n",
    "LastName = \"Shakil\"\n",
    "UserAge = 27"
   ]
  },
  {
   "cell_type": "code",
   "execution_count": 34,
   "id": "03d5f0b2",
   "metadata": {},
   "outputs": [
    {
     "data": {
      "text/plain": [
       "'Shakil'"
      ]
     },
     "execution_count": 34,
     "metadata": {},
     "output_type": "execute_result"
    }
   ],
   "source": [
    "LastName"
   ]
  },
  {
   "cell_type": "code",
   "execution_count": 35,
   "id": "74247629",
   "metadata": {},
   "outputs": [
    {
     "data": {
      "text/plain": [
       "'Rashedul Alam'"
      ]
     },
     "execution_count": 35,
     "metadata": {},
     "output_type": "execute_result"
    }
   ],
   "source": [
    "FirstName"
   ]
  },
  {
   "cell_type": "markdown",
   "id": "38860cd0",
   "metadata": {},
   "source": [
    "# Local Vs. Global Variables"
   ]
  },
  {
   "cell_type": "markdown",
   "id": "09b73603",
   "metadata": {},
   "source": [
    "1. `Global Variable:` Variables that are created outside of a function are known as global variables. Global variables can be used by everyone, both inside of functions and outside. <br>\n",
    " \n",
    "2. `Local Variable:` Variables that are created inside of a function are known as local variables. local variables can be used inside of the function.\n"
   ]
  },
  {
   "cell_type": "code",
   "execution_count": 36,
   "id": "cbb2704f",
   "metadata": {},
   "outputs": [],
   "source": [
    "def myfunction():\n",
    "    b = 10 # local\n",
    "    d = 20\n",
    "    return b+d"
   ]
  },
  {
   "cell_type": "code",
   "execution_count": 37,
   "id": "c1264aac",
   "metadata": {},
   "outputs": [
    {
     "data": {
      "text/plain": [
       "30"
      ]
     },
     "execution_count": 37,
     "metadata": {},
     "output_type": "execute_result"
    }
   ],
   "source": [
    "myfunction()"
   ]
  },
  {
   "cell_type": "code",
   "execution_count": 38,
   "id": "6b807a31",
   "metadata": {},
   "outputs": [
    {
     "data": {
      "text/plain": [
       "30"
      ]
     },
     "execution_count": 38,
     "metadata": {},
     "output_type": "execute_result"
    }
   ],
   "source": [
    "myfunction()"
   ]
  },
  {
   "cell_type": "code",
   "execution_count": 39,
   "id": "3564e854",
   "metadata": {},
   "outputs": [
    {
     "ename": "NameError",
     "evalue": "name 'b' is not defined",
     "output_type": "error",
     "traceback": [
      "\u001b[1;31m---------------------------------------------------------------------------\u001b[0m",
      "\u001b[1;31mNameError\u001b[0m                                 Traceback (most recent call last)",
      "\u001b[1;32m~\\AppData\\Local\\Temp\\ipykernel_21220\\1685013873.py\u001b[0m in \u001b[0;36m<module>\u001b[1;34m\u001b[0m\n\u001b[1;32m----> 1\u001b[1;33m \u001b[0mb\u001b[0m\u001b[1;33m\u001b[0m\u001b[1;33m\u001b[0m\u001b[0m\n\u001b[0m",
      "\u001b[1;31mNameError\u001b[0m: name 'b' is not defined"
     ]
    }
   ],
   "source": [
    "b"
   ]
  },
  {
   "cell_type": "code",
   "execution_count": 40,
   "id": "bd1eb29e",
   "metadata": {},
   "outputs": [
    {
     "ename": "NameError",
     "evalue": "name 'd' is not defined",
     "output_type": "error",
     "traceback": [
      "\u001b[1;31m---------------------------------------------------------------------------\u001b[0m",
      "\u001b[1;31mNameError\u001b[0m                                 Traceback (most recent call last)",
      "\u001b[1;32m~\\AppData\\Local\\Temp\\ipykernel_21220\\3161387801.py\u001b[0m in \u001b[0;36m<module>\u001b[1;34m\u001b[0m\n\u001b[1;32m----> 1\u001b[1;33m \u001b[0md\u001b[0m\u001b[1;33m\u001b[0m\u001b[1;33m\u001b[0m\u001b[0m\n\u001b[0m",
      "\u001b[1;31mNameError\u001b[0m: name 'd' is not defined"
     ]
    }
   ],
   "source": [
    "d"
   ]
  },
  {
   "cell_type": "code",
   "execution_count": 41,
   "id": "eed70e64",
   "metadata": {},
   "outputs": [],
   "source": [
    "b = 10 # Global -> outside function\n",
    "d = 20\n",
    "\n",
    "def myfunction():\n",
    "    print(b+d)\n",
    "    "
   ]
  },
  {
   "cell_type": "code",
   "execution_count": 42,
   "id": "47fe6614",
   "metadata": {},
   "outputs": [
    {
     "name": "stdout",
     "output_type": "stream",
     "text": [
      "30\n"
     ]
    }
   ],
   "source": [
    "myfunction()"
   ]
  },
  {
   "cell_type": "code",
   "execution_count": 43,
   "id": "c818eb20",
   "metadata": {},
   "outputs": [
    {
     "data": {
      "text/plain": [
       "10"
      ]
     },
     "execution_count": 43,
     "metadata": {},
     "output_type": "execute_result"
    }
   ],
   "source": [
    "b"
   ]
  },
  {
   "cell_type": "code",
   "execution_count": 44,
   "id": "09e2cec4",
   "metadata": {},
   "outputs": [
    {
     "data": {
      "text/plain": [
       "20"
      ]
     },
     "execution_count": 44,
     "metadata": {},
     "output_type": "execute_result"
    }
   ],
   "source": [
    "d"
   ]
  },
  {
   "cell_type": "code",
   "execution_count": 58,
   "id": "f4641a15",
   "metadata": {},
   "outputs": [],
   "source": [
    "def myfunction():\n",
    "    global c\n",
    "    c = 10 # local\n",
    "    v = 20\n",
    "    print(c+v)"
   ]
  },
  {
   "cell_type": "code",
   "execution_count": 59,
   "id": "d9ebbb00",
   "metadata": {},
   "outputs": [
    {
     "name": "stdout",
     "output_type": "stream",
     "text": [
      "30\n"
     ]
    }
   ],
   "source": [
    "myfunction()"
   ]
  },
  {
   "cell_type": "code",
   "execution_count": 60,
   "id": "058c9401",
   "metadata": {},
   "outputs": [
    {
     "data": {
      "text/plain": [
       "10"
      ]
     },
     "execution_count": 60,
     "metadata": {},
     "output_type": "execute_result"
    }
   ],
   "source": [
    "c"
   ]
  },
  {
   "cell_type": "code",
   "execution_count": 53,
   "id": "6b736e39",
   "metadata": {},
   "outputs": [],
   "source": [
    "myfunction()"
   ]
  },
  {
   "cell_type": "code",
   "execution_count": 54,
   "id": "17d59545",
   "metadata": {},
   "outputs": [],
   "source": [
    "def add():\n",
    "    global m\n",
    "    m = 100\n",
    "    print(m)"
   ]
  },
  {
   "cell_type": "code",
   "execution_count": 55,
   "id": "9de4b461",
   "metadata": {},
   "outputs": [
    {
     "name": "stdout",
     "output_type": "stream",
     "text": [
      "100\n"
     ]
    }
   ],
   "source": [
    "add()"
   ]
  },
  {
   "cell_type": "code",
   "execution_count": 56,
   "id": "dd83e4bc",
   "metadata": {},
   "outputs": [
    {
     "data": {
      "text/plain": [
       "100"
      ]
     },
     "execution_count": 56,
     "metadata": {},
     "output_type": "execute_result"
    }
   ],
   "source": [
    "m"
   ]
  },
  {
   "cell_type": "code",
   "execution_count": 61,
   "id": "10bb614f",
   "metadata": {},
   "outputs": [
    {
     "data": {
      "text/plain": [
       "30"
      ]
     },
     "execution_count": 61,
     "metadata": {},
     "output_type": "execute_result"
    }
   ],
   "source": [
    "def add2(j,k):\n",
    "    return j+k\n",
    "add2(10,20)"
   ]
  },
  {
   "cell_type": "code",
   "execution_count": 62,
   "id": "6dd75d8c",
   "metadata": {},
   "outputs": [
    {
     "data": {
      "text/plain": [
       "90"
      ]
     },
     "execution_count": 62,
     "metadata": {},
     "output_type": "execute_result"
    }
   ],
   "source": [
    "add2(30,60)"
   ]
  },
  {
   "cell_type": "code",
   "execution_count": 63,
   "id": "2e2dcb9a",
   "metadata": {},
   "outputs": [
    {
     "data": {
      "text/plain": [
       "600"
      ]
     },
     "execution_count": 63,
     "metadata": {},
     "output_type": "execute_result"
    }
   ],
   "source": [
    "add2(100, 500)"
   ]
  },
  {
   "cell_type": "markdown",
   "id": "49f7f7f8",
   "metadata": {},
   "source": [
    "# All about Python Strings"
   ]
  },
  {
   "cell_type": "markdown",
   "id": "91504be3",
   "metadata": {},
   "source": [
    "# All About Python Strings\n",
    "\n",
    "## Introduction\n",
    "Strings in Python are sequences of characters enclosed in quotes. They are one of the most commonly used data types in Python, allowing you to work with text data.\n",
    "\n",
    "## Creating Strings\n",
    "You can create a string in Python by enclosing characters in either single quotes `'`, double quotes `\"`, or triple quotes `'''` or `\"\"\"`.\n",
    "\n",
    "### Examples:\n",
    "```python\n",
    "single_quote_string = 'Hello'\n",
    "double_quote_string = \"World\"\n",
    "triple_quote_string = '''This is a\n",
    "multi-line string.'''\n",
    "another_triple_quote_string = \"\"\"This is also a\n",
    "multi-line string.\"\"\"\n"
   ]
  },
  {
   "cell_type": "code",
   "execution_count": 64,
   "id": "af758937",
   "metadata": {},
   "outputs": [
    {
     "data": {
      "text/plain": [
       "'data science'"
      ]
     },
     "execution_count": 64,
     "metadata": {},
     "output_type": "execute_result"
    }
   ],
   "source": [
    "txt = 'data science' # set of char is called string\n",
    "txt"
   ]
  },
  {
   "cell_type": "code",
   "execution_count": 65,
   "id": "8d4d8c12",
   "metadata": {},
   "outputs": [
    {
     "data": {
      "text/plain": [
       "str"
      ]
     },
     "execution_count": 65,
     "metadata": {},
     "output_type": "execute_result"
    }
   ],
   "source": [
    "type(txt)"
   ]
  },
  {
   "cell_type": "code",
   "execution_count": 67,
   "id": "f4aae793",
   "metadata": {},
   "outputs": [
    {
     "data": {
      "text/plain": [
       "list"
      ]
     },
     "execution_count": 67,
     "metadata": {},
     "output_type": "execute_result"
    }
   ],
   "source": [
    "type(x)"
   ]
  },
  {
   "cell_type": "code",
   "execution_count": 68,
   "id": "5cc0d120",
   "metadata": {},
   "outputs": [
    {
     "data": {
      "text/plain": [
       "int"
      ]
     },
     "execution_count": 68,
     "metadata": {},
     "output_type": "execute_result"
    }
   ],
   "source": [
    "type(m)"
   ]
  },
  {
   "cell_type": "code",
   "execution_count": 70,
   "id": "f56dfbcf",
   "metadata": {},
   "outputs": [
    {
     "data": {
      "text/plain": [
       "61"
      ]
     },
     "execution_count": 70,
     "metadata": {},
     "output_type": "execute_result"
    }
   ],
   "source": [
    "import sys\n",
    "sys.getsizeof(txt)"
   ]
  },
  {
   "cell_type": "code",
   "execution_count": 71,
   "id": "b2e61a80",
   "metadata": {},
   "outputs": [
    {
     "data": {
      "text/plain": [
       "28"
      ]
     },
     "execution_count": 71,
     "metadata": {},
     "output_type": "execute_result"
    }
   ],
   "source": [
    "sys.getsizeof(m)"
   ]
  },
  {
   "cell_type": "code",
   "execution_count": null,
   "id": "301a98ba",
   "metadata": {},
   "outputs": [],
   "source": []
  },
  {
   "cell_type": "markdown",
   "id": "73e8bad6",
   "metadata": {},
   "source": [
    "# Common String Methods in Python\n",
    "\n",
    "## String Methods\n",
    "\n",
    "- `capitalize()`\n",
    "- `casefold()`\n",
    "- `center()`\n",
    "- `count()`\n",
    "- `encode()`\n",
    "- `endswith()`\n",
    "- `expandtabs()`\n",
    "- `find()`\n",
    "- `format()`\n",
    "- `format_map()`\n",
    "- `index()`\n",
    "- `isalnum()`\n",
    "- `isalpha()`\n",
    "- `isascii()`\n",
    "- `isdecimal()`\n",
    "- `isdigit()`\n",
    "- `isidentifier()`\n",
    "- `islower()`\n",
    "- `isnumeric()`\n",
    "- `isprintable()`\n",
    "- `isspace()`\n",
    "- `istitle()`\n",
    "- `isupper()`\n",
    "- `join()`\n",
    "- `ljust()`\n",
    "- `lower()`\n",
    "- `lstrip()`\n",
    "- `maketrans()`\n",
    "- `partition()`\n",
    "- `replace()`\n",
    "- `rfind()`\n",
    "- `rindex()`\n",
    "- `rjust()`\n",
    "- `rpartition()`\n",
    "- `rsplit()`\n",
    "- `rstrip()`\n",
    "- `split()`\n",
    "- `splitlines()`\n",
    "- `startswith()`\n",
    "- `strip()`\n",
    "- `swapcase()`\n",
    "- `title()`\n",
    "- `translate()`\n",
    "- `upper()`\n",
    "- `zfill()`\n",
    "\n",
    "These methods provide various ways to manipulate and handle strings in Python, allowing for extensive text processing and formatting capabilities.\n"
   ]
  },
  {
   "cell_type": "code",
   "execution_count": 72,
   "id": "14b8e6fb",
   "metadata": {},
   "outputs": [
    {
     "data": {
      "text/plain": [
       "'Data science ai'"
      ]
     },
     "execution_count": 72,
     "metadata": {},
     "output_type": "execute_result"
    }
   ],
   "source": [
    "x = 'Data Science ai'\n",
    "x.capitalize()"
   ]
  },
  {
   "cell_type": "code",
   "execution_count": 73,
   "id": "e1d362cb",
   "metadata": {},
   "outputs": [
    {
     "data": {
      "text/plain": [
       "'Data Science Ai'"
      ]
     },
     "execution_count": 73,
     "metadata": {},
     "output_type": "execute_result"
    }
   ],
   "source": [
    "x.title()"
   ]
  },
  {
   "cell_type": "code",
   "execution_count": 74,
   "id": "fd5e912e",
   "metadata": {},
   "outputs": [
    {
     "data": {
      "text/plain": [
       "['Data', 'Science', 'ai']"
      ]
     },
     "execution_count": 74,
     "metadata": {},
     "output_type": "execute_result"
    }
   ],
   "source": [
    "x.split()"
   ]
  },
  {
   "cell_type": "code",
   "execution_count": 75,
   "id": "2f62a4cb",
   "metadata": {},
   "outputs": [
    {
     "data": {
      "text/plain": [
       "'data science ai'"
      ]
     },
     "execution_count": 75,
     "metadata": {},
     "output_type": "execute_result"
    }
   ],
   "source": [
    "x.lower()"
   ]
  },
  {
   "cell_type": "code",
   "execution_count": 76,
   "id": "a0a3057a",
   "metadata": {},
   "outputs": [
    {
     "data": {
      "text/plain": [
       "'DATA SCIENCE AI'"
      ]
     },
     "execution_count": 76,
     "metadata": {},
     "output_type": "execute_result"
    }
   ],
   "source": [
    "x.upper()"
   ]
  },
  {
   "cell_type": "code",
   "execution_count": 77,
   "id": "d9636014",
   "metadata": {},
   "outputs": [
    {
     "data": {
      "text/plain": [
       "'data science ai'"
      ]
     },
     "execution_count": 77,
     "metadata": {},
     "output_type": "execute_result"
    }
   ],
   "source": [
    "x.casefold()"
   ]
  },
  {
   "cell_type": "code",
   "execution_count": null,
   "id": "16fdaf14",
   "metadata": {},
   "outputs": [],
   "source": []
  },
  {
   "cell_type": "markdown",
   "id": "f8d3ada2",
   "metadata": {},
   "source": [
    "# Staring Formating"
   ]
  },
  {
   "cell_type": "markdown",
   "id": "45909508",
   "metadata": {},
   "source": [
    "# String Formatting in Python\n",
    "\n",
    "String formatting in Python allows you to create formatted strings by embedding values and expressions into string literals. There are several ways to format strings in Python:\n",
    "\n",
    "## 1. Using the `%` Operator\n",
    "The `%` operator (also known as the printf operator) allows you to format strings using placeholders.\n",
    "\n",
    "### Example:\n",
    "```python\n",
    "name = \"Shakil\"\n",
    "age = 27\n",
    "formatted_string = \"My name is %s and I am %d years old.\" % (name, age)\n",
    "print(formatted_string)  # Output: My name is Shakil and I am 27 years old.\n"
   ]
  },
  {
   "cell_type": "code",
   "execution_count": 78,
   "id": "3ded707c",
   "metadata": {},
   "outputs": [
    {
     "name": "stdout",
     "output_type": "stream",
     "text": [
      "My age is 27 years \n"
     ]
    }
   ],
   "source": [
    "age = 27\n",
    "print('My age is {} years '.format(age))"
   ]
  },
  {
   "cell_type": "code",
   "execution_count": 79,
   "id": "15260c49",
   "metadata": {},
   "outputs": [
    {
     "name": "stdout",
     "output_type": "stream",
     "text": [
      "my age is Data Science ai years\n"
     ]
    }
   ],
   "source": [
    "print('my age is', x, 'years')"
   ]
  },
  {
   "cell_type": "code",
   "execution_count": 80,
   "id": "bb294c8d",
   "metadata": {},
   "outputs": [],
   "source": [
    "name = \"Shakil\"\n",
    "age = 27\n",
    "formatted_string = \"My name is %s and I am %d years old.\" % (name, age)"
   ]
  },
  {
   "cell_type": "code",
   "execution_count": 81,
   "id": "9dd3917c",
   "metadata": {},
   "outputs": [
    {
     "data": {
      "text/plain": [
       "'My name is Shakil and I am 27 years old.'"
      ]
     },
     "execution_count": 81,
     "metadata": {},
     "output_type": "execute_result"
    }
   ],
   "source": [
    "formatted_string"
   ]
  },
  {
   "cell_type": "markdown",
   "id": "d11e067c",
   "metadata": {},
   "source": [
    "# If-Else Statements"
   ]
  },
  {
   "cell_type": "markdown",
   "id": "4d0189bc",
   "metadata": {},
   "source": [
    "# If-Else Statements in Python\n",
    "\n",
    "## Introduction\n",
    "If-else statements in Python are used to execute a block of code based on a condition. If the condition is true, a certain block of code is executed. If the condition is false, an alternative block of code can be executed.\n",
    "\n",
    "## Syntax\n",
    "The basic syntax of an if-else statement is:\n",
    "```python\n",
    "if condition:\n",
    "    # code block to execute if condition is true\n",
    "else:\n",
    "    # code block to execute if condition is false\n"
   ]
  },
  {
   "cell_type": "code",
   "execution_count": 82,
   "id": "3ca001fe",
   "metadata": {},
   "outputs": [
    {
     "name": "stdout",
     "output_type": "stream",
     "text": [
      "ok 1\n",
      "58\n"
     ]
    }
   ],
   "source": [
    "x = 18\n",
    "y = 40\n",
    "z = 30\n",
    "\n",
    "if x>y:\n",
    "    print('no!')\n",
    "    print(x+10)\n",
    "    \n",
    "elif (y>x):\n",
    "    print('ok 1')\n",
    "    print(x+y)\n",
    "\n",
    "else:\n",
    "    print('Done!')"
   ]
  },
  {
   "cell_type": "code",
   "execution_count": 83,
   "id": "e3fd1fe0",
   "metadata": {},
   "outputs": [
    {
     "name": "stdout",
     "output_type": "stream",
     "text": [
      "ok 1\n",
      "58\n",
      "ok 2\n",
      "58\n"
     ]
    }
   ],
   "source": [
    "x = 18\n",
    "y = 40\n",
    "z = 30\n",
    "\n",
    "if x>y:\n",
    "    print('no!')\n",
    "    print(x+10)\n",
    "\n",
    "if (y>x):\n",
    "    print('ok 1')\n",
    "    print(x+y)\n",
    "\n",
    "if (y>x):\n",
    "    print('ok 2')\n",
    "    print(x+y)\n",
    "    \n",
    "else:\n",
    "    print('Done!')"
   ]
  },
  {
   "cell_type": "code",
   "execution_count": 86,
   "id": "e1c034c6",
   "metadata": {},
   "outputs": [
    {
     "name": "stdout",
     "output_type": "stream",
     "text": [
      "i am done\n"
     ]
    }
   ],
   "source": [
    "x = 18\n",
    "y = 40\n",
    "z = 30\n",
    "\n",
    "if x>y:\n",
    "    print('no!')\n",
    "    print(x+10)\n",
    "\n",
    "elif (y>x):\n",
    "    if x%2==1:\n",
    "        print('all done')\n",
    "    else:\n",
    "        print('i am done')\n",
    "\n",
    "\n",
    "elif (y>x):\n",
    "    print('ok 2')\n",
    "    print(x+y)\n",
    "    \n",
    "else:\n",
    "    print('Done!')"
   ]
  },
  {
   "cell_type": "code",
   "execution_count": 87,
   "id": "fc83c59a",
   "metadata": {},
   "outputs": [
    {
     "name": "stdout",
     "output_type": "stream",
     "text": [
      "all done\n"
     ]
    }
   ],
   "source": [
    "x = 18\n",
    "y = 40\n",
    "z = 30\n",
    "\n",
    "if x>y:\n",
    "    print('no!')\n",
    "    print(x+10)\n",
    "\n",
    "elif (y>x):\n",
    "    if x%2==0:\n",
    "        print('all done')\n",
    "    else:\n",
    "        print('i am done')\n",
    "\n",
    "elif (y>x):\n",
    "    print('ok 2')\n",
    "    print(x+y)\n",
    "    \n",
    "else:\n",
    "    print('Done!')"
   ]
  },
  {
   "cell_type": "markdown",
   "id": "cd4b4478",
   "metadata": {},
   "source": [
    "# For Loops in Python\n",
    "\n",
    "## Introduction\n",
    "A `for` loop in Python is used to iterate over a sequence (such as a list, tuple, dictionary, set, or string) and execute a block of code for each item in the sequence. It is one of the most common control flow statements in Python.\n",
    "\n",
    "## Syntax\n",
    "The basic syntax of a `for` loop is:\n",
    "```python\n",
    "for item in sequence:\n",
    "    # code block to execute\n"
   ]
  },
  {
   "cell_type": "code",
   "execution_count": 88,
   "id": "aaa3b55b",
   "metadata": {},
   "outputs": [
    {
     "name": "stdout",
     "output_type": "stream",
     "text": [
      "1\n",
      "2\n",
      "3\n"
     ]
    }
   ],
   "source": [
    "print(1)\n",
    "print(2)\n",
    "print(3)"
   ]
  },
  {
   "cell_type": "code",
   "execution_count": 89,
   "id": "0aa36896",
   "metadata": {},
   "outputs": [
    {
     "data": {
      "text/plain": [
       "range(0, 10)"
      ]
     },
     "execution_count": 89,
     "metadata": {},
     "output_type": "execute_result"
    }
   ],
   "source": [
    "range(10)"
   ]
  },
  {
   "cell_type": "code",
   "execution_count": 93,
   "id": "ad879ab1",
   "metadata": {
    "scrolled": true
   },
   "outputs": [
    {
     "name": "stdout",
     "output_type": "stream",
     "text": [
      "0 Seven sisters\n",
      "1 Seven sisters\n",
      "2 Seven sisters\n",
      "3 Seven sisters\n",
      "4 Seven sisters\n",
      "5 Seven sisters\n",
      "6 Seven sisters\n",
      "7 Seven sisters\n"
     ]
    }
   ],
   "source": [
    "#range(start, end, increment/decrement)\n",
    "for i in range(8):             # until n-1\n",
    "    print(i, 'Seven sisters')\n",
    "    #print(i+1)"
   ]
  },
  {
   "cell_type": "code",
   "execution_count": 94,
   "id": "37bb95b1",
   "metadata": {},
   "outputs": [
    {
     "name": "stdout",
     "output_type": "stream",
     "text": [
      "2 Seven sisters\n",
      "3 Seven sisters\n",
      "4 Seven sisters\n",
      "5 Seven sisters\n",
      "6 Seven sisters\n",
      "7 Seven sisters\n"
     ]
    }
   ],
   "source": [
    "for i in range(2, 8, 1):             # until n-1\n",
    "    print(i, 'Seven sisters')\n",
    "    #print(i+1)"
   ]
  },
  {
   "cell_type": "code",
   "execution_count": 95,
   "id": "a33e1108",
   "metadata": {},
   "outputs": [
    {
     "name": "stdout",
     "output_type": "stream",
     "text": [
      "2 Seven sisters\n",
      "4 Seven sisters\n",
      "6 Seven sisters\n"
     ]
    }
   ],
   "source": [
    "\n",
    "for i in range(2, 8, 2):             # until n-1\n",
    "    print(i, 'Seven sisters')\n"
   ]
  },
  {
   "cell_type": "code",
   "execution_count": 96,
   "id": "8f42be67",
   "metadata": {},
   "outputs": [
    {
     "name": "stdout",
     "output_type": "stream",
     "text": [
      "10 Seven sisters\n",
      "9 Seven sisters\n",
      "8 Seven sisters\n",
      "7 Seven sisters\n",
      "6 Seven sisters\n",
      "5 Seven sisters\n",
      "4 Seven sisters\n",
      "3 Seven sisters\n",
      "2 Seven sisters\n"
     ]
    }
   ],
   "source": [
    "\n",
    "for i in range(10, 1, -1):             # until n-1\n",
    "    print(i, 'Seven sisters')\n"
   ]
  },
  {
   "cell_type": "code",
   "execution_count": 97,
   "id": "9e71e713",
   "metadata": {},
   "outputs": [
    {
     "data": {
      "text/plain": [
       "['data', 'science']"
      ]
     },
     "execution_count": 97,
     "metadata": {},
     "output_type": "execute_result"
    }
   ],
   "source": [
    "txt.split()"
   ]
  },
  {
   "cell_type": "code",
   "execution_count": 100,
   "id": "039ce0db",
   "metadata": {},
   "outputs": [
    {
     "name": "stdout",
     "output_type": "stream",
     "text": [
      "I love data\n",
      "I love science\n"
     ]
    }
   ],
   "source": [
    "for i in txt.split():\n",
    "    print('I love',i)"
   ]
  },
  {
   "cell_type": "markdown",
   "id": "c53fedbc",
   "metadata": {},
   "source": [
    "# While Loops in Python\n",
    "\n",
    "## Introduction\n",
    "A `while` loop in Python is used to repeatedly execute a block of code as long as a given condition is true. It is useful for situations where you do not know beforehand how many times you need to repeat a block of code.\n",
    "\n",
    "## Syntax\n",
    "The basic syntax of a `while` loop is:\n",
    "```python\n",
    "while condition:\n",
    "    # code block to execute\n"
   ]
  },
  {
   "cell_type": "code",
   "execution_count": 101,
   "id": "d4a05536",
   "metadata": {},
   "outputs": [
    {
     "name": "stdout",
     "output_type": "stream",
     "text": [
      "2 Seven sisters\n",
      "3 Seven sisters\n",
      "4 Seven sisters\n",
      "5 Seven sisters\n",
      "6 Seven sisters\n",
      "7 Seven sisters\n"
     ]
    }
   ],
   "source": [
    "for i in range(2, 8, 1):             # until n-1\n",
    "    print(i, 'Seven sisters')\n",
    "    #print(i+1)"
   ]
  },
  {
   "cell_type": "code",
   "execution_count": 102,
   "id": "50567ff1",
   "metadata": {},
   "outputs": [
    {
     "name": "stdout",
     "output_type": "stream",
     "text": [
      "1 Seven sisters\n",
      "2 Seven sisters\n",
      "3 Seven sisters\n",
      "4 Seven sisters\n",
      "5 Seven sisters\n",
      "6 Seven sisters\n",
      "7 Seven sisters\n"
     ]
    }
   ],
   "source": [
    "i = 1\n",
    "while i<8:\n",
    "    print(i, 'Seven sisters')\n",
    "    i = i + 1"
   ]
  },
  {
   "cell_type": "code",
   "execution_count": 103,
   "id": "6705ca6a",
   "metadata": {},
   "outputs": [
    {
     "name": "stdout",
     "output_type": "stream",
     "text": [
      "2 Seven sisters\n",
      "3 Seven sisters\n",
      "4 Seven sisters\n",
      "5 Seven sisters\n",
      "6 Seven sisters\n",
      "7 Seven sisters\n",
      "8 Seven sisters\n"
     ]
    }
   ],
   "source": [
    "i = 1\n",
    "while i<8:\n",
    "    i = i + 1\n",
    "    print(i, 'Seven sisters')\n"
   ]
  },
  {
   "cell_type": "code",
   "execution_count": null,
   "id": "427f0a63",
   "metadata": {},
   "outputs": [],
   "source": []
  }
 ],
 "metadata": {
  "kernelspec": {
   "display_name": "Python 3 (ipykernel)",
   "language": "python",
   "name": "python3"
  },
  "language_info": {
   "codemirror_mode": {
    "name": "ipython",
    "version": 3
   },
   "file_extension": ".py",
   "mimetype": "text/x-python",
   "name": "python",
   "nbconvert_exporter": "python",
   "pygments_lexer": "ipython3",
   "version": "3.9.13"
  }
 },
 "nbformat": 4,
 "nbformat_minor": 5
}
